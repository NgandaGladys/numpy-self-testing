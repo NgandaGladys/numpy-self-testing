{
 "cells": [
  {
   "cell_type": "code",
   "execution_count": 2,
   "id": "cc9cb04a",
   "metadata": {},
   "outputs": [],
   "source": [
    "import numpy as np\n"
   ]
  },
  {
   "cell_type": "code",
   "execution_count": 5,
   "id": "ad16eddd",
   "metadata": {},
   "outputs": [
    {
     "data": {
      "text/plain": [
       "('1.21.5',\n",
       " <module 'numpy.__config__' from 'C:\\\\Users\\\\new\\\\anaconda3\\\\lib\\\\site-packages\\\\numpy\\\\__config__.py'>)"
      ]
     },
     "execution_count": 5,
     "metadata": {},
     "output_type": "execute_result"
    }
   ],
   "source": [
    "\n",
    "np.__version__, np.__config__\n",
    "\n",
    "\n",
    "\n",
    "\n"
   ]
  },
  {
   "cell_type": "code",
   "execution_count": 7,
   "id": "e25b4189",
   "metadata": {},
   "outputs": [
    {
     "data": {
      "text/plain": [
       "array([[2, 3],\n",
       "       [4, 7]])"
      ]
     },
     "execution_count": 7,
     "metadata": {},
     "output_type": "execute_result"
    }
   ],
   "source": [
    "x1=np.array([[2, 3],[4 ,7]])\n",
    "x1"
   ]
  },
  {
   "cell_type": "code",
   "execution_count": 8,
   "id": "b5ca349d",
   "metadata": {},
   "outputs": [
    {
     "name": "stdout",
     "output_type": "stream",
     "text": [
      "16\n"
     ]
    }
   ],
   "source": [
    "#memory size\n",
    "print(x1.nbytes)"
   ]
  },
  {
   "cell_type": "code",
   "execution_count": 9,
   "id": "d337a5ad",
   "metadata": {},
   "outputs": [
    {
     "name": "stdout",
     "output_type": "stream",
     "text": [
      "int32\n"
     ]
    }
   ],
   "source": [
    "#Data type\n",
    "print(x1.dtype)"
   ]
  },
  {
   "cell_type": "code",
   "execution_count": 10,
   "id": "7581718d",
   "metadata": {},
   "outputs": [
    {
     "data": {
      "text/plain": [
       "array([0., 0., 0., 0., 0., 0., 0., 0., 0., 0.])"
      ]
     },
     "execution_count": 10,
     "metadata": {},
     "output_type": "execute_result"
    }
   ],
   "source": [
    "#null vector with size 10\n",
    "np.zeros(10)"
   ]
  },
  {
   "cell_type": "code",
   "execution_count": 12,
   "id": "3179755e",
   "metadata": {},
   "outputs": [
    {
     "name": "stdout",
     "output_type": "stream",
     "text": [
      "add(x1, x2, /, out=None, *, where=True, casting='same_kind', order='K', dtype=None, subok=True[, signature, extobj])\n",
      "\n",
      "Add arguments element-wise.\n",
      "\n",
      "Parameters\n",
      "----------\n",
      "x1, x2 : array_like\n",
      "    The arrays to be added.\n",
      "    If ``x1.shape != x2.shape``, they must be broadcastable to a common\n",
      "    shape (which becomes the shape of the output).\n",
      "out : ndarray, None, or tuple of ndarray and None, optional\n",
      "    A location into which the result is stored. If provided, it must have\n",
      "    a shape that the inputs broadcast to. If not provided or None,\n",
      "    a freshly-allocated array is returned. A tuple (possible only as a\n",
      "    keyword argument) must have length equal to the number of outputs.\n",
      "where : array_like, optional\n",
      "    This condition is broadcast over the input. At locations where the\n",
      "    condition is True, the `out` array will be set to the ufunc result.\n",
      "    Elsewhere, the `out` array will retain its original value.\n",
      "    Note that if an uninitialized `out` array is created via the default\n",
      "    ``out=None``, locations within it where the condition is False will\n",
      "    remain uninitialized.\n",
      "**kwargs\n",
      "    For other keyword-only arguments, see the\n",
      "    :ref:`ufunc docs <ufuncs.kwargs>`.\n",
      "\n",
      "Returns\n",
      "-------\n",
      "add : ndarray or scalar\n",
      "    The sum of `x1` and `x2`, element-wise.\n",
      "    This is a scalar if both `x1` and `x2` are scalars.\n",
      "\n",
      "Notes\n",
      "-----\n",
      "Equivalent to `x1` + `x2` in terms of array broadcasting.\n",
      "\n",
      "Examples\n",
      "--------\n",
      ">>> np.add(1.0, 4.0)\n",
      "5.0\n",
      ">>> x1 = np.arange(9.0).reshape((3, 3))\n",
      ">>> x2 = np.arange(3.0)\n",
      ">>> np.add(x1, x2)\n",
      "array([[  0.,   2.,   4.],\n",
      "       [  3.,   5.,   7.],\n",
      "       [  6.,   8.,  10.]])\n",
      "\n",
      "The ``+`` operator can be used as a shorthand for ``np.add`` on ndarrays.\n",
      "\n",
      ">>> x1 = np.arange(9.0).reshape((3, 3))\n",
      ">>> x2 = np.arange(3.0)\n",
      ">>> x1 + x2\n",
      "array([[ 0.,  2.,  4.],\n",
      "       [ 3.,  5.,  7.],\n",
      "       [ 6.,  8., 10.]])\n"
     ]
    }
   ],
   "source": [
    "#documentation of numpy add\n",
    "np.info(np.add)"
   ]
  },
  {
   "cell_type": "code",
   "execution_count": 19,
   "id": "b9da8717",
   "metadata": {},
   "outputs": [
    {
     "data": {
      "text/plain": [
       "array([0., 0., 0., 0., 1., 0., 0., 0., 0., 0.])"
      ]
     },
     "execution_count": 19,
     "metadata": {},
     "output_type": "execute_result"
    }
   ],
   "source": [
    "#Null vector size 10,fifth value=1\n",
    "x1=np.zeros(10)\n",
    "x1[4]=1\n",
    "x1\n"
   ]
  },
  {
   "cell_type": "code",
   "execution_count": 26,
   "id": "73f55550",
   "metadata": {},
   "outputs": [
    {
     "data": {
      "text/plain": [
       "array([[2, 3, 8, 9],\n",
       "       [1, 1, 6, 0],\n",
       "       [4, 1, 7, 0]])"
      ]
     },
     "execution_count": 26,
     "metadata": {},
     "output_type": "execute_result"
    }
   ],
   "source": [
    "#Reverse vector\n",
    "t=np.random.randint(10,size=(3 ,4))\n",
    "t"
   ]
  },
  {
   "cell_type": "code",
   "execution_count": 27,
   "id": "f2d1c92c",
   "metadata": {},
   "outputs": [
    {
     "data": {
      "text/plain": [
       "array([[4, 1, 7, 0],\n",
       "       [1, 1, 6, 0],\n",
       "       [2, 3, 8, 9]])"
      ]
     },
     "execution_count": 27,
     "metadata": {},
     "output_type": "execute_result"
    }
   ],
   "source": [
    "t[::-1]"
   ]
  },
  {
   "cell_type": "code",
   "execution_count": 28,
   "id": "127057d2",
   "metadata": {},
   "outputs": [
    {
     "name": "stdout",
     "output_type": "stream",
     "text": [
      "[10 11 12 13 14 15 16 17 18 19 20 21 22 23 24 25 26 27 28 29 30 31 32 33\n",
      " 34 35 36 37 38 39 40 41 42 43 44 45 46 47 48]\n"
     ]
    }
   ],
   "source": [
    "#vector with values 10-49\n",
    "v=np.arange(10,49)\n",
    "print(v)"
   ]
  },
  {
   "cell_type": "code",
   "execution_count": 30,
   "id": "a2792e84",
   "metadata": {},
   "outputs": [
    {
     "data": {
      "text/plain": [
       "array([0, 1, 2, 3, 4, 5, 6, 7])"
      ]
     },
     "execution_count": 30,
     "metadata": {},
     "output_type": "execute_result"
    }
   ],
   "source": [
    "#3by3 matrix with values ranging from 0-8\n",
    "z=np.arange(0,8)\n",
    "z"
   ]
  },
  {
   "cell_type": "code",
   "execution_count": 36,
   "id": "21554b04",
   "metadata": {},
   "outputs": [
    {
     "name": "stdout",
     "output_type": "stream",
     "text": [
      "[[0 1]\n",
      " [2 3]\n",
      " [4 5]\n",
      " [6 7]]\n"
     ]
    }
   ],
   "source": [
    "print(z.reshape(4,2))"
   ]
  },
  {
   "cell_type": "code",
   "execution_count": 40,
   "id": "5b72de49",
   "metadata": {},
   "outputs": [
    {
     "name": "stdout",
     "output_type": "stream",
     "text": [
      "2\n",
      "4\n",
      "5\n"
     ]
    }
   ],
   "source": [
    "m=[0,0,1,0,4,6,0,0]\n",
    "print(m.index(1))\n",
    "print(m.index(4))\n",
    "print(m.index(6))\n"
   ]
  },
  {
   "cell_type": "code",
   "execution_count": 41,
   "id": "6d8b1e41",
   "metadata": {},
   "outputs": [
    {
     "data": {
      "text/plain": [
       "array([[1., 0., 0.],\n",
       "       [0., 1., 0.],\n",
       "       [0., 0., 1.]])"
      ]
     },
     "execution_count": 41,
     "metadata": {},
     "output_type": "execute_result"
    }
   ],
   "source": [
    "#3by3 identity matrix\n",
    "u=np.eye(3)\n",
    "u"
   ]
  },
  {
   "cell_type": "code",
   "execution_count": 42,
   "id": "2bb7c716",
   "metadata": {},
   "outputs": [
    {
     "data": {
      "text/plain": [
       "array([[[0.95775486, 0.66815764, 0.22597364],\n",
       "        [0.77256525, 0.60484467, 0.99334705],\n",
       "        [0.52853203, 0.36689087, 0.09037877]],\n",
       "\n",
       "       [[0.5164563 , 0.2415481 , 0.7244516 ],\n",
       "        [0.49052521, 0.3751514 , 0.27722096],\n",
       "        [0.76817568, 0.81810693, 0.32294898]],\n",
       "\n",
       "       [[0.92687563, 0.92843692, 0.821962  ],\n",
       "        [0.50355019, 0.98772193, 0.37661483],\n",
       "        [0.73452171, 0.38807596, 0.86514083]]])"
      ]
     },
     "execution_count": 42,
     "metadata": {},
     "output_type": "execute_result"
    }
   ],
   "source": [
    "#3 dimension array(3by3by3)\n",
    "b=np.random.random((3,3,3))\n",
    "b"
   ]
  },
  {
   "cell_type": "code",
   "execution_count": 44,
   "id": "f009acd6",
   "metadata": {},
   "outputs": [
    {
     "data": {
      "text/plain": [
       "array([[0.66202033, 0.0746668 , 0.08447493, 0.35601767, 0.51997968,\n",
       "        0.78504385, 0.43595905, 0.86114816, 0.75712513, 0.93985226],\n",
       "       [0.24171058, 0.73896731, 0.08037152, 0.45895845, 0.18885235,\n",
       "        0.10480135, 0.29029482, 0.27233434, 0.32276937, 0.83799198],\n",
       "       [0.86091784, 0.14019831, 0.98712797, 0.14561995, 0.59749323,\n",
       "        0.80636752, 0.95765998, 0.7901493 , 0.0521204 , 0.0797928 ],\n",
       "       [0.63726242, 0.66327417, 0.9158334 , 0.22902096, 0.66396607,\n",
       "        0.34003573, 0.44329009, 0.32243551, 0.15122703, 0.15425868],\n",
       "       [0.74275334, 0.06106692, 0.32423151, 0.78726347, 0.29200634,\n",
       "        0.18349401, 0.17166344, 0.93084143, 0.88547568, 0.39406818],\n",
       "       [0.56341193, 0.61422126, 0.39744225, 0.69401493, 0.26261132,\n",
       "        0.07195479, 0.05738883, 0.27017702, 0.60022854, 0.79840398],\n",
       "       [0.19623125, 0.15806422, 0.1179736 , 0.05750291, 0.58325931,\n",
       "        0.81477943, 0.55454958, 0.77980653, 0.75013241, 0.22932516],\n",
       "       [0.00155718, 0.0925964 , 0.15669232, 0.80832853, 0.62569009,\n",
       "        0.67210713, 0.01919537, 0.78174304, 0.36143074, 0.43721018],\n",
       "       [0.33598198, 0.0836733 , 0.15184586, 0.62222134, 0.63609672,\n",
       "        0.36967151, 0.30053373, 0.3183369 , 0.97246413, 0.39357423],\n",
       "       [0.47563995, 0.35815432, 0.45295277, 0.21263048, 0.92414746,\n",
       "        0.29323429, 0.05897199, 0.46469356, 0.76579504, 0.88582602]])"
      ]
     },
     "execution_count": 44,
     "metadata": {},
     "output_type": "execute_result"
    }
   ],
   "source": [
    "\n",
    "#10by1`0 matrix with min() and max()\n",
    "h=np.random.random((10,10))\n",
    "h"
   ]
  },
  {
   "cell_type": "code",
   "execution_count": 47,
   "id": "1cd70103",
   "metadata": {},
   "outputs": [
    {
     "name": "stdout",
     "output_type": "stream",
     "text": [
      "0.0015571813397413647\n",
      "0.9871279671368419\n"
     ]
    }
   ],
   "source": [
    "print(h.min())\n",
    "print(h.max())"
   ]
  },
  {
   "cell_type": "code",
   "execution_count": 48,
   "id": "bd6d0664",
   "metadata": {},
   "outputs": [
    {
     "data": {
      "text/plain": [
       "array([0.07972683, 0.29078206, 0.6723841 , 0.98161049, 0.37761192,\n",
       "       0.90980524, 0.36074807, 0.60120631, 0.4124147 , 0.27213383,\n",
       "       0.11389604, 0.85851047, 0.68465033, 0.50785579, 0.76675644,\n",
       "       0.19993692, 0.0475014 , 0.07546029, 0.556397  , 0.78695313,\n",
       "       0.38290251, 0.95604147, 0.22152722, 0.7567251 , 0.36191369,\n",
       "       0.29687988, 0.25106903, 0.48102224, 0.22043709, 0.6400852 ])"
      ]
     },
     "execution_count": 48,
     "metadata": {},
     "output_type": "execute_result"
    }
   ],
   "source": [
    "#random vector size 30,find mean\n",
    "f=np.random.random(30)\n",
    "f"
   ]
  },
  {
   "cell_type": "code",
   "execution_count": 50,
   "id": "eb4ffd09",
   "metadata": {},
   "outputs": [
    {
     "name": "stdout",
     "output_type": "stream",
     "text": [
      "0.47083149237225214\n"
     ]
    }
   ],
   "source": [
    "print(f.mean())"
   ]
  },
  {
   "cell_type": "code",
   "execution_count": null,
   "id": "bf942827",
   "metadata": {},
   "outputs": [],
   "source": []
  }
 ],
 "metadata": {
  "kernelspec": {
   "display_name": "Python 3.10.5 64-bit",
   "language": "python",
   "name": "python3"
  },
  "language_info": {
   "codemirror_mode": {
    "name": "ipython",
    "version": 3
   },
   "file_extension": ".py",
   "mimetype": "text/x-python",
   "name": "python",
   "nbconvert_exporter": "python",
   "pygments_lexer": "ipython3",
   "version": "3.10.5"
  },
  "vscode": {
   "interpreter": {
    "hash": "cf117664b8858894668e4f2fe151fc30a631b375b49e89a2d55486291a8960c8"
   }
  }
 },
 "nbformat": 4,
 "nbformat_minor": 5
}
